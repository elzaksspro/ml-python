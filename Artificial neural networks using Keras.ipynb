{
 "cells": [
  {
   "cell_type": "markdown",
   "metadata": {},
   "source": [
    "# Artificial neural networks using Keras\n",
    "\n",
    "In a previous notebook, I showed [an example implementation of an artificial neural network (ANN)](http://jonchar.net/notebooks/Artificial-Neural-Network/) using only `numpy`. I took this approach because I really wanted to dig into the guts of how ANNs to understand what they're doing on a fundamental level. The architecture of the example network I used was very simple: a single input layer for two features, two hidden layers with 5 hidden units each, and an output layer with two units corresponding to output classes. Each layer was fully-connected to the next one (these are known as \"dense\" layers), which showed how things can get complex fairly quickly. However, ANNs really shine in deep learning, where the number of layers far exceeds the number in my previous example. It's no surprise then that a number of libraries have recently popped up for working with ANNs in Python.\n",
    "\n",
    "## Options for buliding ANNs in Python\n",
    "\n",
    "Several libraries exist in the Python ecosystem for dealing with deep learning / ANNs in various capacities such as [Theano](), [TensorFlow](https://www.tensorflow.org/), [Keras](http://keras.io/), [Lasagne](https://github.com/Lasagne/Lasagne), [NoLearn](https://github.com/dnouri/nolearn), and [Blocks](https://github.com/mila-udem/blocks). These libraries however are not all mutually exclusive nor do they serve to fill the same niches. You can choose your favorite based on how dirty you like to get your hands.\n",
    "\n",
    "In this notebook I will re-implement our example network using [Keras](http://keras.io/). Keras is a framework for building ANNs that sits on top of either a Theano or TensorFlow backend. I like this approach because you can focus on the network structure. The [Keras Blog](http://blog.keras.io/) has some great examples of how to use the framework."
   ]
  },
  {
   "cell_type": "code",
   "execution_count": 1,
   "metadata": {
    "collapsed": true
   },
   "outputs": [],
   "source": [
    "import numpy as np\n",
    "np.random.seed(0)\n",
    "from sklearn import datasets\n",
    "import matplotlib.pyplot as plt\n",
    "%matplotlib inline\n",
    "%config InlineBackend.figure_format = 'retina'"
   ]
  }
 ],
 "metadata": {
  "kernelspec": {
   "display_name": "Python 3",
   "language": "python",
   "name": "python3"
  },
  "language_info": {
   "codemirror_mode": {
    "name": "ipython",
    "version": 3
   },
   "file_extension": ".py",
   "mimetype": "text/x-python",
   "name": "python",
   "nbconvert_exporter": "python",
   "pygments_lexer": "ipython3",
   "version": "3.5.1"
  }
 },
 "nbformat": 4,
 "nbformat_minor": 0
}
